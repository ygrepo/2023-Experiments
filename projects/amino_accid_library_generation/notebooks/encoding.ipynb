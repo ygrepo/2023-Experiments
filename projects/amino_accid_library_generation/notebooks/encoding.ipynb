{
 "cells": [
  {
   "cell_type": "code",
   "execution_count": 1,
   "id": "fbd6ef91-7e76-443d-a193-8081996646cc",
   "metadata": {
    "tags": []
   },
   "outputs": [],
   "source": [
    "import pandas as pd\n",
    "import matplotlib.pyplot as plt\n",
    "import numpy as np\n",
    "from sklearn.preprocessing import StandardScaler\n",
    "from sklearn.decomposition import MiniBatchNMF\n",
    "from pathlib import Path"
   ]
  },
  {
   "cell_type": "code",
   "execution_count": 2,
   "id": "2bf7974f-85c9-4215-8c0b-405d05fc036a",
   "metadata": {
    "tags": []
   },
   "outputs": [],
   "source": [
    "pd.set_option('display.expand_frame_repr', False)"
   ]
  },
  {
   "cell_type": "code",
   "execution_count": 3,
   "id": "6709d4a3-0fca-4519-8a9d-7a6e304ad1ce",
   "metadata": {
    "tags": []
   },
   "outputs": [],
   "source": [
    "df = pd.read_parquet(\"data/df_nes.parquet\")"
   ]
  },
  {
   "cell_type": "code",
   "execution_count": 4,
   "id": "2a13817b-1555-41a5-91c6-ef3590cc60ba",
   "metadata": {
    "tags": []
   },
   "outputs": [
    {
     "data": {
      "text/html": [
       "<div>\n",
       "<style scoped>\n",
       "    .dataframe tbody tr th:only-of-type {\n",
       "        vertical-align: middle;\n",
       "    }\n",
       "\n",
       "    .dataframe tbody tr th {\n",
       "        vertical-align: top;\n",
       "    }\n",
       "\n",
       "    .dataframe thead th {\n",
       "        text-align: right;\n",
       "    }\n",
       "</style>\n",
       "<table border=\"1\" class=\"dataframe\">\n",
       "  <thead>\n",
       "    <tr style=\"text-align: right;\">\n",
       "      <th></th>\n",
       "      <th>sequence</th>\n",
       "      <th>input_count</th>\n",
       "      <th>rep1_count</th>\n",
       "      <th>rep2_count</th>\n",
       "      <th>log2_fold_change</th>\n",
       "      <th>CV</th>\n",
       "      <th>NES</th>\n",
       "      <th>VNES</th>\n",
       "    </tr>\n",
       "  </thead>\n",
       "  <tbody>\n",
       "    <tr>\n",
       "      <th>0</th>\n",
       "      <td>CDNRVESEC</td>\n",
       "      <td>2</td>\n",
       "      <td>361</td>\n",
       "      <td>330</td>\n",
       "      <td>7.432542</td>\n",
       "      <td>22.290323</td>\n",
       "      <td>8.535944</td>\n",
       "      <td>0.382944</td>\n",
       "    </tr>\n",
       "    <tr>\n",
       "      <th>1</th>\n",
       "      <td>CGNNVWDLC</td>\n",
       "      <td>2</td>\n",
       "      <td>321</td>\n",
       "      <td>360</td>\n",
       "      <td>7.411511</td>\n",
       "      <td>17.461538</td>\n",
       "      <td>8.511791</td>\n",
       "      <td>0.487459</td>\n",
       "    </tr>\n",
       "  </tbody>\n",
       "</table>\n",
       "</div>"
      ],
      "text/plain": [
       "    sequence  input_count  rep1_count  rep2_count  log2_fold_change         CV       NES      VNES\n",
       "0  CDNRVESEC            2         361         330          7.432542  22.290323  8.535944  0.382944\n",
       "1  CGNNVWDLC            2         321         360          7.411511  17.461538  8.511791  0.487459"
      ]
     },
     "execution_count": 4,
     "metadata": {},
     "output_type": "execute_result"
    }
   ],
   "source": [
    "df.head(2)"
   ]
  },
  {
   "cell_type": "code",
   "execution_count": 5,
   "id": "c3a0b5a9-0027-4546-8df3-0540d8526a78",
   "metadata": {
    "tags": []
   },
   "outputs": [
    {
     "data": {
      "text/plain": [
       "(45244632, 8)"
      ]
     },
     "execution_count": 5,
     "metadata": {},
     "output_type": "execute_result"
    }
   ],
   "source": [
    "df.shape"
   ]
  },
  {
   "cell_type": "code",
   "execution_count": 6,
   "id": "7adb494f-6e3b-43b7-b446-c212dca86059",
   "metadata": {},
   "outputs": [],
   "source": [
    "df = df.sample(1000000)"
   ]
  },
  {
   "cell_type": "code",
   "execution_count": 7,
   "id": "651cf0e9-c574-41a7-b1aa-152b4cfae32a",
   "metadata": {
    "tags": []
   },
   "outputs": [],
   "source": [
    "amino_acids = \"ACDEFGHIKLMNPQRSTVWY\"\n",
    "one_hot_dict = {}\n",
    "for i, aa in enumerate(amino_acids):\n",
    "    encoding = [0] * len(amino_acids)\n",
    "    encoding[i] = 1\n",
    "    one_hot_dict[aa] = encoding"
   ]
  },
  {
   "cell_type": "code",
   "execution_count": 8,
   "id": "c7eb96c6-14ba-4686-8b4c-1bf7bb28deac",
   "metadata": {
    "tags": []
   },
   "outputs": [
    {
     "data": {
      "text/plain": [
       "{'A': [1, 0, 0, 0, 0, 0, 0, 0, 0, 0, 0, 0, 0, 0, 0, 0, 0, 0, 0, 0],\n",
       " 'C': [0, 1, 0, 0, 0, 0, 0, 0, 0, 0, 0, 0, 0, 0, 0, 0, 0, 0, 0, 0],\n",
       " 'D': [0, 0, 1, 0, 0, 0, 0, 0, 0, 0, 0, 0, 0, 0, 0, 0, 0, 0, 0, 0],\n",
       " 'E': [0, 0, 0, 1, 0, 0, 0, 0, 0, 0, 0, 0, 0, 0, 0, 0, 0, 0, 0, 0],\n",
       " 'F': [0, 0, 0, 0, 1, 0, 0, 0, 0, 0, 0, 0, 0, 0, 0, 0, 0, 0, 0, 0],\n",
       " 'G': [0, 0, 0, 0, 0, 1, 0, 0, 0, 0, 0, 0, 0, 0, 0, 0, 0, 0, 0, 0],\n",
       " 'H': [0, 0, 0, 0, 0, 0, 1, 0, 0, 0, 0, 0, 0, 0, 0, 0, 0, 0, 0, 0],\n",
       " 'I': [0, 0, 0, 0, 0, 0, 0, 1, 0, 0, 0, 0, 0, 0, 0, 0, 0, 0, 0, 0],\n",
       " 'K': [0, 0, 0, 0, 0, 0, 0, 0, 1, 0, 0, 0, 0, 0, 0, 0, 0, 0, 0, 0],\n",
       " 'L': [0, 0, 0, 0, 0, 0, 0, 0, 0, 1, 0, 0, 0, 0, 0, 0, 0, 0, 0, 0],\n",
       " 'M': [0, 0, 0, 0, 0, 0, 0, 0, 0, 0, 1, 0, 0, 0, 0, 0, 0, 0, 0, 0],\n",
       " 'N': [0, 0, 0, 0, 0, 0, 0, 0, 0, 0, 0, 1, 0, 0, 0, 0, 0, 0, 0, 0],\n",
       " 'P': [0, 0, 0, 0, 0, 0, 0, 0, 0, 0, 0, 0, 1, 0, 0, 0, 0, 0, 0, 0],\n",
       " 'Q': [0, 0, 0, 0, 0, 0, 0, 0, 0, 0, 0, 0, 0, 1, 0, 0, 0, 0, 0, 0],\n",
       " 'R': [0, 0, 0, 0, 0, 0, 0, 0, 0, 0, 0, 0, 0, 0, 1, 0, 0, 0, 0, 0],\n",
       " 'S': [0, 0, 0, 0, 0, 0, 0, 0, 0, 0, 0, 0, 0, 0, 0, 1, 0, 0, 0, 0],\n",
       " 'T': [0, 0, 0, 0, 0, 0, 0, 0, 0, 0, 0, 0, 0, 0, 0, 0, 1, 0, 0, 0],\n",
       " 'V': [0, 0, 0, 0, 0, 0, 0, 0, 0, 0, 0, 0, 0, 0, 0, 0, 0, 1, 0, 0],\n",
       " 'W': [0, 0, 0, 0, 0, 0, 0, 0, 0, 0, 0, 0, 0, 0, 0, 0, 0, 0, 1, 0],\n",
       " 'Y': [0, 0, 0, 0, 0, 0, 0, 0, 0, 0, 0, 0, 0, 0, 0, 0, 0, 0, 0, 1]}"
      ]
     },
     "execution_count": 8,
     "metadata": {},
     "output_type": "execute_result"
    }
   ],
   "source": [
    "one_hot_dict"
   ]
  },
  {
   "cell_type": "code",
   "execution_count": 9,
   "id": "9daa9554-951a-473b-82a6-4a91d550917c",
   "metadata": {
    "tags": []
   },
   "outputs": [
    {
     "data": {
      "text/plain": [
       "(1000000, 8)"
      ]
     },
     "execution_count": 9,
     "metadata": {},
     "output_type": "execute_result"
    }
   ],
   "source": [
    "df.shape"
   ]
  },
  {
   "cell_type": "code",
   "execution_count": 10,
   "id": "1a7579cc-c39e-49cc-86b1-78d1dacd06fa",
   "metadata": {
    "tags": []
   },
   "outputs": [],
   "source": [
    "def encode_sequence(sequence, one_hot_dict):\n",
    "    encoding = np.zeros((len(sequence), len(amino_acids)))\n",
    "    for i, aa in enumerate(sequence):\n",
    "        encoding[i] = one_hot_dict.get(aa, [0] * len(amino_acids))\n",
    "    return encoding.flatten()\n",
    "\n",
    "df[\"OHE\"] = df[\"sequence\"].apply(lambda seq: encode_sequence(seq, one_hot_dict))"
   ]
  },
  {
   "cell_type": "code",
   "execution_count": 11,
   "id": "c38d0024-1063-444e-97f1-1a875d2feab9",
   "metadata": {
    "tags": []
   },
   "outputs": [
    {
     "data": {
      "text/html": [
       "<div>\n",
       "<style scoped>\n",
       "    .dataframe tbody tr th:only-of-type {\n",
       "        vertical-align: middle;\n",
       "    }\n",
       "\n",
       "    .dataframe tbody tr th {\n",
       "        vertical-align: top;\n",
       "    }\n",
       "\n",
       "    .dataframe thead th {\n",
       "        text-align: right;\n",
       "    }\n",
       "</style>\n",
       "<table border=\"1\" class=\"dataframe\">\n",
       "  <thead>\n",
       "    <tr style=\"text-align: right;\">\n",
       "      <th></th>\n",
       "      <th>sequence</th>\n",
       "      <th>input_count</th>\n",
       "      <th>rep1_count</th>\n",
       "      <th>rep2_count</th>\n",
       "      <th>log2_fold_change</th>\n",
       "      <th>CV</th>\n",
       "      <th>NES</th>\n",
       "      <th>VNES</th>\n",
       "      <th>OHE</th>\n",
       "    </tr>\n",
       "  </thead>\n",
       "  <tbody>\n",
       "    <tr>\n",
       "      <th>40018119</th>\n",
       "      <td>CQVLNKDQC</td>\n",
       "      <td>4</td>\n",
       "      <td>2</td>\n",
       "      <td>5</td>\n",
       "      <td>-0.192645</td>\n",
       "      <td>2.333333</td>\n",
       "      <td>-0.221244</td>\n",
       "      <td>-0.094819</td>\n",
       "      <td>[0.0, 1.0, 0.0, 0.0, 0.0, 0.0, 0.0, 0.0, 0.0, ...</td>\n",
       "    </tr>\n",
       "    <tr>\n",
       "      <th>38529993</th>\n",
       "      <td>CTGGGFNRC</td>\n",
       "      <td>7</td>\n",
       "      <td>1</td>\n",
       "      <td>6</td>\n",
       "      <td>-1.000000</td>\n",
       "      <td>1.400000</td>\n",
       "      <td>-1.148456</td>\n",
       "      <td>-0.820325</td>\n",
       "      <td>[0.0, 1.0, 0.0, 0.0, 0.0, 0.0, 0.0, 0.0, 0.0, ...</td>\n",
       "    </tr>\n",
       "  </tbody>\n",
       "</table>\n",
       "</div>"
      ],
      "text/plain": [
       "           sequence  input_count  rep1_count  rep2_count  log2_fold_change        CV       NES      VNES                                                OHE\n",
       "40018119  CQVLNKDQC            4           2           5         -0.192645  2.333333 -0.221244 -0.094819  [0.0, 1.0, 0.0, 0.0, 0.0, 0.0, 0.0, 0.0, 0.0, ...\n",
       "38529993  CTGGGFNRC            7           1           6         -1.000000  1.400000 -1.148456 -0.820325  [0.0, 1.0, 0.0, 0.0, 0.0, 0.0, 0.0, 0.0, 0.0, ..."
      ]
     },
     "execution_count": 11,
     "metadata": {},
     "output_type": "execute_result"
    }
   ],
   "source": [
    "df.head(2)"
   ]
  },
  {
   "cell_type": "code",
   "execution_count": 12,
   "id": "b4848dc8-f074-4f5e-93a0-c5c428d789b6",
   "metadata": {
    "tags": []
   },
   "outputs": [],
   "source": [
    "df.reset_index(inplace=True)"
   ]
  },
  {
   "cell_type": "code",
   "execution_count": 13,
   "id": "403c4598-f535-4b9b-bc6f-cd41accbc274",
   "metadata": {
    "tags": []
   },
   "outputs": [
    {
     "data": {
      "text/plain": [
       "array([0., 1., 0., 0., 0., 0., 0., 0., 0., 0., 0., 0., 0., 0., 0., 0., 0.,\n",
       "       0., 0., 0., 0., 0., 0., 0., 0., 0., 0., 0., 0., 0., 0., 0., 0., 1.,\n",
       "       0., 0., 0., 0., 0., 0., 0., 0., 0., 0., 0., 0., 0., 0., 0., 0., 0.,\n",
       "       0., 0., 0., 0., 0., 0., 1., 0., 0., 0., 0., 0., 0., 0., 0., 0., 0.,\n",
       "       0., 1., 0., 0., 0., 0., 0., 0., 0., 0., 0., 0., 0., 0., 0., 0., 0.,\n",
       "       0., 0., 0., 0., 0., 0., 1., 0., 0., 0., 0., 0., 0., 0., 0., 0., 0.,\n",
       "       0., 0., 0., 0., 0., 0., 1., 0., 0., 0., 0., 0., 0., 0., 0., 0., 0.,\n",
       "       0., 0., 0., 1., 0., 0., 0., 0., 0., 0., 0., 0., 0., 0., 0., 0., 0.,\n",
       "       0., 0., 0., 0., 0., 0., 0., 0., 0., 0., 0., 0., 0., 0., 0., 0., 0.,\n",
       "       1., 0., 0., 0., 0., 0., 0., 0., 1., 0., 0., 0., 0., 0., 0., 0., 0.,\n",
       "       0., 0., 0., 0., 0., 0., 0., 0., 0., 0.])"
      ]
     },
     "execution_count": 13,
     "metadata": {},
     "output_type": "execute_result"
    }
   ],
   "source": [
    "df[\"OHE\"][0]"
   ]
  },
  {
   "cell_type": "code",
   "execution_count": 14,
   "id": "3adc8c19-46fb-4bb9-895b-0f08f62437d1",
   "metadata": {
    "tags": []
   },
   "outputs": [],
   "source": [
    "df.to_parquet(\"data/df_nes_ohe_1000000.parquet\")"
   ]
  },
  {
   "cell_type": "code",
   "execution_count": 15,
   "id": "13679ef0-33e0-42a5-a146-0080206c85eb",
   "metadata": {
    "tags": []
   },
   "outputs": [
    {
     "data": {
      "text/plain": [
       "index                 int64\n",
       "sequence             object\n",
       "input_count           int64\n",
       "rep1_count            int64\n",
       "rep2_count            int64\n",
       "log2_fold_change    float64\n",
       "CV                  float64\n",
       "NES                 float64\n",
       "VNES                float64\n",
       "OHE                  object\n",
       "dtype: object"
      ]
     },
     "execution_count": 15,
     "metadata": {},
     "output_type": "execute_result"
    }
   ],
   "source": [
    "df.dtypes"
   ]
  },
  {
   "cell_type": "code",
   "execution_count": 16,
   "id": "d6075747-0371-405b-80a1-e9d2c896891a",
   "metadata": {
    "tags": []
   },
   "outputs": [],
   "source": [
    "# Define the NMF model\n",
    "n_components = 1 # set the number of components to use\n",
    "nmf = MiniBatchNMF(n_components=n_components, random_state=0)\n",
    "W = nmf.fit_transform(np.vstack(df[\"OHE\"].values))"
   ]
  },
  {
   "cell_type": "code",
   "execution_count": 17,
   "id": "fc2b69c2-c4a8-450f-97ce-f44818f58c98",
   "metadata": {
    "tags": []
   },
   "outputs": [
    {
     "data": {
      "text/plain": [
       "(1000000, 1)"
      ]
     },
     "execution_count": 17,
     "metadata": {},
     "output_type": "execute_result"
    }
   ],
   "source": [
    "W.shape"
   ]
  },
  {
   "cell_type": "code",
   "execution_count": 18,
   "id": "1d51ba75-2820-40b5-9fc7-05dd84251390",
   "metadata": {
    "tags": []
   },
   "outputs": [
    {
     "data": {
      "text/plain": [
       "(1000000,)"
      ]
     },
     "execution_count": 18,
     "metadata": {},
     "output_type": "execute_result"
    }
   ],
   "source": [
    "W.squeeze(-1).shape"
   ]
  },
  {
   "cell_type": "code",
   "execution_count": 19,
   "id": "8c360eaa-306a-4359-b585-20e6f779e72a",
   "metadata": {
    "tags": []
   },
   "outputs": [
    {
     "data": {
      "text/plain": [
       "2568.1614028263434"
      ]
     },
     "execution_count": 19,
     "metadata": {},
     "output_type": "execute_result"
    }
   ],
   "source": [
    "nmf.reconstruction_err_"
   ]
  },
  {
   "cell_type": "code",
   "execution_count": 20,
   "id": "d7ecbba1-4f5c-4e43-bb2e-e40cb8e8b8cd",
   "metadata": {
    "tags": []
   },
   "outputs": [
    {
     "data": {
      "text/plain": [
       "2.568e-09"
      ]
     },
     "execution_count": 20,
     "metadata": {},
     "output_type": "execute_result"
    }
   ],
   "source": [
    "2568/(1000000**2)"
   ]
  },
  {
   "cell_type": "code",
   "execution_count": 21,
   "id": "897e3143-7969-4a93-9d16-1150c4d2bc0c",
   "metadata": {
    "tags": []
   },
   "outputs": [],
   "source": [
    "df[\"COHE\"] = W.squeeze(-1).tolist()"
   ]
  },
  {
   "cell_type": "code",
   "execution_count": 22,
   "id": "a3a3ae4c-0a32-4227-a043-f7690de232c9",
   "metadata": {
    "tags": []
   },
   "outputs": [
    {
     "data": {
      "text/html": [
       "<div>\n",
       "<style scoped>\n",
       "    .dataframe tbody tr th:only-of-type {\n",
       "        vertical-align: middle;\n",
       "    }\n",
       "\n",
       "    .dataframe tbody tr th {\n",
       "        vertical-align: top;\n",
       "    }\n",
       "\n",
       "    .dataframe thead th {\n",
       "        text-align: right;\n",
       "    }\n",
       "</style>\n",
       "<table border=\"1\" class=\"dataframe\">\n",
       "  <thead>\n",
       "    <tr style=\"text-align: right;\">\n",
       "      <th></th>\n",
       "      <th>index</th>\n",
       "      <th>sequence</th>\n",
       "      <th>input_count</th>\n",
       "      <th>rep1_count</th>\n",
       "      <th>rep2_count</th>\n",
       "      <th>log2_fold_change</th>\n",
       "      <th>CV</th>\n",
       "      <th>NES</th>\n",
       "      <th>VNES</th>\n",
       "      <th>OHE</th>\n",
       "      <th>COHE</th>\n",
       "    </tr>\n",
       "  </thead>\n",
       "  <tbody>\n",
       "    <tr>\n",
       "      <th>0</th>\n",
       "      <td>40018119</td>\n",
       "      <td>CQVLNKDQC</td>\n",
       "      <td>4</td>\n",
       "      <td>2</td>\n",
       "      <td>5</td>\n",
       "      <td>-0.192645</td>\n",
       "      <td>2.333333</td>\n",
       "      <td>-0.221244</td>\n",
       "      <td>-0.094819</td>\n",
       "      <td>[0.0, 1.0, 0.0, 0.0, 0.0, 0.0, 0.0, 0.0, 0.0, ...</td>\n",
       "      <td>0.038567</td>\n",
       "    </tr>\n",
       "    <tr>\n",
       "      <th>1</th>\n",
       "      <td>38529993</td>\n",
       "      <td>CTGGGFNRC</td>\n",
       "      <td>7</td>\n",
       "      <td>1</td>\n",
       "      <td>6</td>\n",
       "      <td>-1.000000</td>\n",
       "      <td>1.400000</td>\n",
       "      <td>-1.148456</td>\n",
       "      <td>-0.820325</td>\n",
       "      <td>[0.0, 1.0, 0.0, 0.0, 0.0, 0.0, 0.0, 0.0, 0.0, ...</td>\n",
       "      <td>0.040980</td>\n",
       "    </tr>\n",
       "  </tbody>\n",
       "</table>\n",
       "</div>"
      ],
      "text/plain": [
       "      index   sequence  input_count  rep1_count  rep2_count  log2_fold_change        CV       NES      VNES                                                OHE      COHE\n",
       "0  40018119  CQVLNKDQC            4           2           5         -0.192645  2.333333 -0.221244 -0.094819  [0.0, 1.0, 0.0, 0.0, 0.0, 0.0, 0.0, 0.0, 0.0, ...  0.038567\n",
       "1  38529993  CTGGGFNRC            7           1           6         -1.000000  1.400000 -1.148456 -0.820325  [0.0, 1.0, 0.0, 0.0, 0.0, 0.0, 0.0, 0.0, 0.0, ...  0.040980"
      ]
     },
     "execution_count": 22,
     "metadata": {},
     "output_type": "execute_result"
    }
   ],
   "source": [
    "df.head(2)"
   ]
  },
  {
   "cell_type": "code",
   "execution_count": 23,
   "id": "e08558a0-07c1-41cd-a567-0aed8ea3e2a9",
   "metadata": {
    "tags": []
   },
   "outputs": [],
   "source": [
    "df.to_parquet(\"data/df_nes_ohe_cohe_1000000.parquet\")"
   ]
  },
  {
   "cell_type": "code",
   "execution_count": 24,
   "id": "59b13664-5c24-45ed-a757-e6ee5346163f",
   "metadata": {},
   "outputs": [
    {
     "data": {
      "text/html": [
       "<div>\n",
       "<style scoped>\n",
       "    .dataframe tbody tr th:only-of-type {\n",
       "        vertical-align: middle;\n",
       "    }\n",
       "\n",
       "    .dataframe tbody tr th {\n",
       "        vertical-align: top;\n",
       "    }\n",
       "\n",
       "    .dataframe thead th {\n",
       "        text-align: right;\n",
       "    }\n",
       "</style>\n",
       "<table border=\"1\" class=\"dataframe\">\n",
       "  <thead>\n",
       "    <tr style=\"text-align: right;\">\n",
       "      <th></th>\n",
       "      <th>index</th>\n",
       "      <th>input_count</th>\n",
       "      <th>rep1_count</th>\n",
       "      <th>rep2_count</th>\n",
       "      <th>log2_fold_change</th>\n",
       "      <th>CV</th>\n",
       "      <th>NES</th>\n",
       "      <th>VNES</th>\n",
       "      <th>COHE</th>\n",
       "    </tr>\n",
       "  </thead>\n",
       "  <tbody>\n",
       "    <tr>\n",
       "      <th>count</th>\n",
       "      <td>1.000000e+06</td>\n",
       "      <td>1000000.000000</td>\n",
       "      <td>1000000.000000</td>\n",
       "      <td>1000000.000000</td>\n",
       "      <td>1000000.000000</td>\n",
       "      <td>1000000.000000</td>\n",
       "      <td>1000000.000000</td>\n",
       "      <td>1000000.000000</td>\n",
       "      <td>1000000.000000</td>\n",
       "    </tr>\n",
       "    <tr>\n",
       "      <th>mean</th>\n",
       "      <td>2.260039e+07</td>\n",
       "      <td>3.803750</td>\n",
       "      <td>5.140480</td>\n",
       "      <td>5.251291</td>\n",
       "      <td>0.497538</td>\n",
       "      <td>4.162813</td>\n",
       "      <td>0.571401</td>\n",
       "      <td>0.203724</td>\n",
       "      <td>0.039298</td>\n",
       "    </tr>\n",
       "    <tr>\n",
       "      <th>std</th>\n",
       "      <td>1.305889e+07</td>\n",
       "      <td>5.002988</td>\n",
       "      <td>7.722459</td>\n",
       "      <td>7.952456</td>\n",
       "      <td>0.870886</td>\n",
       "      <td>5.490293</td>\n",
       "      <td>1.000173</td>\n",
       "      <td>0.448041</td>\n",
       "      <td>0.002072</td>\n",
       "    </tr>\n",
       "    <tr>\n",
       "      <th>min</th>\n",
       "      <td>1.190000e+02</td>\n",
       "      <td>1.000000</td>\n",
       "      <td>1.000000</td>\n",
       "      <td>1.000000</td>\n",
       "      <td>-5.169925</td>\n",
       "      <td>1.051282</td>\n",
       "      <td>-5.937429</td>\n",
       "      <td>-2.614679</td>\n",
       "      <td>0.005184</td>\n",
       "    </tr>\n",
       "    <tr>\n",
       "      <th>25%</th>\n",
       "      <td>1.128720e+07</td>\n",
       "      <td>1.000000</td>\n",
       "      <td>1.000000</td>\n",
       "      <td>1.000000</td>\n",
       "      <td>0.222392</td>\n",
       "      <td>2.333333</td>\n",
       "      <td>0.255408</td>\n",
       "      <td>0.036487</td>\n",
       "      <td>0.038668</td>\n",
       "    </tr>\n",
       "    <tr>\n",
       "      <th>50%</th>\n",
       "      <td>2.259376e+07</td>\n",
       "      <td>1.000000</td>\n",
       "      <td>2.000000</td>\n",
       "      <td>2.000000</td>\n",
       "      <td>0.584963</td>\n",
       "      <td>3.000000</td>\n",
       "      <td>0.671803</td>\n",
       "      <td>0.223934</td>\n",
       "      <td>0.039461</td>\n",
       "    </tr>\n",
       "    <tr>\n",
       "      <th>75%</th>\n",
       "      <td>3.392169e+07</td>\n",
       "      <td>5.000000</td>\n",
       "      <td>6.000000</td>\n",
       "      <td>6.000000</td>\n",
       "      <td>0.784271</td>\n",
       "      <td>3.000000</td>\n",
       "      <td>0.900701</td>\n",
       "      <td>0.223934</td>\n",
       "      <td>0.040251</td>\n",
       "    </tr>\n",
       "    <tr>\n",
       "      <th>max</th>\n",
       "      <td>4.524463e+07</td>\n",
       "      <td>120.000000</td>\n",
       "      <td>658.000000</td>\n",
       "      <td>701.000000</td>\n",
       "      <td>5.918863</td>\n",
       "      <td>335.000000</td>\n",
       "      <td>6.797552</td>\n",
       "      <td>4.081800</td>\n",
       "      <td>0.044168</td>\n",
       "    </tr>\n",
       "  </tbody>\n",
       "</table>\n",
       "</div>"
      ],
      "text/plain": [
       "              index     input_count      rep1_count      rep2_count  log2_fold_change              CV             NES            VNES            COHE\n",
       "count  1.000000e+06  1000000.000000  1000000.000000  1000000.000000    1000000.000000  1000000.000000  1000000.000000  1000000.000000  1000000.000000\n",
       "mean   2.260039e+07        3.803750        5.140480        5.251291          0.497538        4.162813        0.571401        0.203724        0.039298\n",
       "std    1.305889e+07        5.002988        7.722459        7.952456          0.870886        5.490293        1.000173        0.448041        0.002072\n",
       "min    1.190000e+02        1.000000        1.000000        1.000000         -5.169925        1.051282       -5.937429       -2.614679        0.005184\n",
       "25%    1.128720e+07        1.000000        1.000000        1.000000          0.222392        2.333333        0.255408        0.036487        0.038668\n",
       "50%    2.259376e+07        1.000000        2.000000        2.000000          0.584963        3.000000        0.671803        0.223934        0.039461\n",
       "75%    3.392169e+07        5.000000        6.000000        6.000000          0.784271        3.000000        0.900701        0.223934        0.040251\n",
       "max    4.524463e+07      120.000000      658.000000      701.000000          5.918863      335.000000        6.797552        4.081800        0.044168"
      ]
     },
     "execution_count": 24,
     "metadata": {},
     "output_type": "execute_result"
    }
   ],
   "source": [
    "df.describe()"
   ]
  },
  {
   "cell_type": "code",
   "execution_count": null,
   "id": "b3f6135e-e174-4f9c-a471-984450ac0fc1",
   "metadata": {},
   "outputs": [],
   "source": []
  }
 ],
 "metadata": {
  "kernelspec": {
   "display_name": "compbio",
   "language": "python",
   "name": "compbio"
  },
  "language_info": {
   "codemirror_mode": {
    "name": "ipython",
    "version": 3
   },
   "file_extension": ".py",
   "mimetype": "text/x-python",
   "name": "python",
   "nbconvert_exporter": "python",
   "pygments_lexer": "ipython3",
   "version": "3.9.7"
  }
 },
 "nbformat": 4,
 "nbformat_minor": 5
}
