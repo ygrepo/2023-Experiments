{
 "cells": [
  {
   "cell_type": "code",
   "execution_count": 1,
   "id": "94b8b868-0680-47a5-a997-68fa666f6d54",
   "metadata": {},
   "outputs": [],
   "source": [
    "from scipy.stats import norm"
   ]
  },
  {
   "cell_type": "code",
   "execution_count": 2,
   "id": "8960ce43-c503-4a6f-a2c8-eba0aed2b39b",
   "metadata": {},
   "outputs": [],
   "source": [
    "import pandas as pd"
   ]
  },
  {
   "cell_type": "code",
   "execution_count": 3,
   "id": "5432bc76-9d13-40cf-8c7a-6729b1ebe9a3",
   "metadata": {},
   "outputs": [
    {
     "data": {
      "text/plain": [
       "a    2.0\n",
       "b    1.0\n",
       "c    1.0\n",
       "d    NaN\n",
       "e    4.0\n",
       "f    3.0\n",
       "dtype: float64"
      ]
     },
     "execution_count": 3,
     "metadata": {},
     "output_type": "execute_result"
    }
   ],
   "source": [
    "s = pd.Series([2, 1, 1, np.nan, 4, 3], index=[\"a\", \"b\", \"c\", \"d\", \"e\", \"f\"])\n",
    "s"
   ]
  },
  {
   "cell_type": "code",
   "execution_count": 4,
   "id": "7b2b3181-5816-4e45-acba-e3d0fac60688",
   "metadata": {},
   "outputs": [],
   "source": [
    "import scipy.stats as ss"
   ]
  },
  {
   "cell_type": "code",
   "execution_count": 5,
   "id": "5850f261-b310-4a3a-857f-0eed7aa9765d",
   "metadata": {},
   "outputs": [],
   "source": [
    "def rank_INT(series, c= 3.0/8, stochastic = True):\n",
    "    \"\"\" Perform rank-based inverse normal transformation on pandas series.\n",
    "        If stochastic is True ties are given rank randomly, otherwise ties will\n",
    "        share the same value. NaN values are ignored.\n",
    "        Args:\n",
    "            param1 (pandas.Series):   Series of values to transform\n",
    "            param2 (Optional[float]): Constand parameter (Bloms constant)\n",
    "            param3 (Optional[bool]):  Whether to randomise rank of ties\n",
    "        \n",
    "        Returns:\n",
    "            pandas.Series\n",
    "    \"\"\"    \n",
    "    # Check input\n",
    "    assert(isinstance(series, pd.Series))\n",
    "    assert(isinstance(c, float))\n",
    "    assert(isinstance(stochastic, bool))\n",
    "\n",
    "    # Set seed\n",
    "    np.random.seed(123)\n",
    "\n",
    "    # Drop NaNs\n",
    "    series = series.loc[~pd.isnull(series)] \n",
    "\n",
    "    # Take original series indexes\n",
    "    orig_idx = series.index\n",
    "\n",
    "   \n",
    "    # Get ranks\n",
    "    if stochastic == True:\n",
    "        # Shuffle by index\n",
    "        series = series.loc[np.random.permutation(series.index)]\n",
    "        # Get rank, ties are determined by their position in the series (hence\n",
    "        # why we randomised the series)\n",
    "        rank = ss.rankdata(series, method=\"ordinal\")\n",
    "    else:\n",
    "        # Get rank, ties are averaged\n",
    "        rank = ss.rankdata(series, method=\"average\")\n",
    "\n",
    "    # Convert numpy array back to series\n",
    "    rank = pd.Series(rank, index=series.index)\n",
    "\n",
    "    # Convert rank to normal distribution\n",
    "    transformed = rank.apply(rank_to_normal, c=c, n=len(rank))  \n",
    "    return transformed[orig_idx]"
   ]
  },
  {
   "cell_type": "code",
   "execution_count": 6,
   "id": "9e777ba9-00e5-408b-a87a-7e0367956039",
   "metadata": {},
   "outputs": [],
   "source": [
    "def rank_to_normal(rank, c, n):\n",
    "    x = (rank - c) /(n-2 *c + 1)\n",
    "    return ss.norm.ppf(x)"
   ]
  },
  {
   "cell_type": "code",
   "execution_count": 7,
   "id": "e25b39de-076b-4a49-91e5-e509a2ea2bcd",
   "metadata": {},
   "outputs": [
    {
     "data": {
      "text/plain": [
       "a    0.000000\n",
       "b   -1.179761\n",
       "c   -0.497201\n",
       "e    1.179761\n",
       "f    0.497201\n",
       "dtype: float64"
      ]
     },
     "execution_count": 7,
     "metadata": {},
     "output_type": "execute_result"
    }
   ],
   "source": [
    "rank_INT(s, stochastic=True)"
   ]
  },
  {
   "cell_type": "code",
   "execution_count": null,
   "id": "9cc525dc-d357-44c3-b4a7-18eb4b6fde09",
   "metadata": {},
   "outputs": [],
   "source": []
  }
 ],
 "metadata": {
  "kernelspec": {
   "display_name": "general_39",
   "language": "python",
   "name": "general_39"
  },
  "language_info": {
   "codemirror_mode": {
    "name": "ipython",
    "version": 3
   },
   "file_extension": ".py",
   "mimetype": "text/x-python",
   "name": "python",
   "nbconvert_exporter": "python",
   "pygments_lexer": "ipython3",
   "version": "3.9.7"
  }
 },
 "nbformat": 4,
 "nbformat_minor": 5
}
