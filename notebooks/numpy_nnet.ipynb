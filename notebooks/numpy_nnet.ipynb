{
 "cells": [
  {
   "cell_type": "code",
   "execution_count": 1,
   "id": "273e18f0-bdad-4efb-b832-aad2b729def6",
   "metadata": {},
   "outputs": [],
   "source": [
    "import numpy as np\n",
    "import os\n",
    "data_dir = \"../_data\"\n",
    "os.makedirs(data_dir, exist_ok=True)\n"
   ]
  },
  {
   "cell_type": "code",
   "execution_count": 2,
   "id": "0ae87c85-36b2-4cf5-90b4-75583b7341ef",
   "metadata": {},
   "outputs": [],
   "source": [
    "data_sources = {\n",
    "    \"training_images\": \"train-images-idx3-ubyte.gz\",  # 60,000 training images.\n",
    "    \"test_images\": \"t10k-images-idx3-ubyte.gz\",  # 10,000 test images.\n",
    "    \"training_labels\": \"train-labels-idx1-ubyte.gz\",  # 60,000 training labels.\n",
    "    \"test_labels\": \"t10k-labels-idx1-ubyte.gz\",  # 10,000 test labels.\n",
    "}"
   ]
  },
  {
   "cell_type": "code",
   "execution_count": 3,
   "id": "f83e4777-fa0b-4e81-b70f-ecfb63ff05d8",
   "metadata": {},
   "outputs": [],
   "source": [
    "import gzip\n",
    "\n",
    "mnist_dataset = {}\n",
    "\n",
    "# Images\n",
    "for key in (\"training_images\", \"test_images\"):\n",
    "    with gzip.open(os.path.join(data_dir, data_sources[key]), \"rb\") as mnist_file:\n",
    "        mnist_dataset[key] = np.frombuffer(\n",
    "            mnist_file.read(), np.uint8, offset=16\n",
    "        ).reshape(-1, 28 * 28)\n",
    "# Labels\n",
    "for key in (\"training_labels\", \"test_labels\"):\n",
    "    with gzip.open(os.path.join(data_dir, data_sources[key]), \"rb\") as mnist_file:\n",
    "        mnist_dataset[key] = np.frombuffer(mnist_file.read(), np.uint8, offset=8)"
   ]
  },
  {
   "cell_type": "code",
   "execution_count": 4,
   "id": "d68a0ce6-d409-4766-a4e8-3d805f6447ba",
   "metadata": {},
   "outputs": [
    {
     "data": {
      "text/plain": [
       "{'training_images': array([[0, 0, 0, ..., 0, 0, 0],\n",
       "        [0, 0, 0, ..., 0, 0, 0],\n",
       "        [0, 0, 0, ..., 0, 0, 0],\n",
       "        ...,\n",
       "        [0, 0, 0, ..., 0, 0, 0],\n",
       "        [0, 0, 0, ..., 0, 0, 0],\n",
       "        [0, 0, 0, ..., 0, 0, 0]], dtype=uint8),\n",
       " 'test_images': array([[0, 0, 0, ..., 0, 0, 0],\n",
       "        [0, 0, 0, ..., 0, 0, 0],\n",
       "        [0, 0, 0, ..., 0, 0, 0],\n",
       "        ...,\n",
       "        [0, 0, 0, ..., 0, 0, 0],\n",
       "        [0, 0, 0, ..., 0, 0, 0],\n",
       "        [0, 0, 0, ..., 0, 0, 0]], dtype=uint8),\n",
       " 'training_labels': array([5, 0, 4, ..., 5, 6, 8], dtype=uint8),\n",
       " 'test_labels': array([7, 2, 1, ..., 4, 5, 6], dtype=uint8)}"
      ]
     },
     "execution_count": 4,
     "metadata": {},
     "output_type": "execute_result"
    }
   ],
   "source": [
    "mnist_dataset"
   ]
  },
  {
   "cell_type": "code",
   "execution_count": 5,
   "id": "b1b8492f-4828-41b7-a4f6-14ce4a9e0a88",
   "metadata": {},
   "outputs": [],
   "source": [
    "x_train, y_train, x_test, y_test = (\n",
    "    mnist_dataset[\"training_images\"],\n",
    "    mnist_dataset[\"training_labels\"],\n",
    "    mnist_dataset[\"test_images\"],\n",
    "    mnist_dataset[\"test_labels\"],\n",
    ")"
   ]
  },
  {
   "cell_type": "code",
   "execution_count": 6,
   "id": "bbb919e0-7a3d-4f6b-9ccb-247dfb601a2c",
   "metadata": {},
   "outputs": [
    {
     "name": "stdout",
     "output_type": "stream",
     "text": [
      "The shape of training images: (60000, 784) and training labels: (60000,)\n",
      "The shape of test images: (10000, 784) and test labels: (10000,)\n"
     ]
    }
   ],
   "source": [
    "print(\n",
    "    \"The shape of training images: {} and training labels: {}\".format(\n",
    "        x_train.shape, y_train.shape\n",
    "    )\n",
    ")\n",
    "print(\n",
    "    \"The shape of test images: {} and test labels: {}\".format(\n",
    "        x_test.shape, y_test.shape\n",
    "    )\n",
    ")"
   ]
  },
  {
   "cell_type": "code",
   "execution_count": 7,
   "id": "c9789d74-a982-4137-9dca-5ec0dfb8a8e0",
   "metadata": {},
   "outputs": [
    {
     "data": {
      "image/png": "[encoded data removed]",
      "text/plain": [
       "<Figure size 640x480 with 1 Axes>"
      ]
     },
     "metadata": {},
     "output_type": "display_data"
    }
   ],
   "source": [
    "import matplotlib.pyplot as plt\n",
    "\n",
    "# Take the 60,000th image (indexed at 59,999) from the training set,\n",
    "# reshape from (784, ) to (28, 28) to have a valid shape for displaying purposes.\n",
    "mnist_image = x_train[59999, :].reshape(28, 28)\n",
    "# Set the color mapping to grayscale to have a black background.\n",
    "plt.imshow(mnist_image, cmap=\"gray\")\n",
    "# Display the image.\n",
    "plt.show()"
   ]
  },
  {
   "cell_type": "markdown",
   "id": "3567e361-5461-495d-9de2-29ae29944729",
   "metadata": {},
   "source": [
    "The images data contain 8-bit integers encoded in the [0, 255] interval with color values between 0 and 255.\n",
    "\n",
    "You will normalize them into floating-point arrays in the [0, 1] interval by dividing them by 255."
   ]
  },
  {
   "cell_type": "code",
   "execution_count": 8,
   "id": "2cdf7f5d-4dd4-4128-8177-194f7d23f18c",
   "metadata": {},
   "outputs": [],
   "source": [
    "training_sample, test_sample = 1000, 1000\n",
    "training_images = x_train[0:training_sample] / 255\n",
    "test_images = x_test[0:test_sample] / 255"
   ]
  },
  {
   "cell_type": "code",
   "execution_count": 9,
   "id": "f813372f-e816-45ad-b28a-17b42d39d9c5",
   "metadata": {},
   "outputs": [
    {
     "name": "stdout",
     "output_type": "stream",
     "text": [
      "The data type of training labels: uint8\n",
      "The data type of test labels: uint8\n"
     ]
    }
   ],
   "source": [
    "print(\"The data type of training labels: {}\".format(y_train.dtype))\n",
    "print(\"The data type of test labels: {}\".format(y_test.dtype))"
   ]
  },
  {
   "cell_type": "code",
   "execution_count": 10,
   "id": "55a446fd-cf1d-4e59-94d8-07c2b070d47f",
   "metadata": {},
   "outputs": [],
   "source": [
    "def one_hot_encoding(labels, dimension=10):\n",
    "    # Define a one-hot variable for an all-zero vector\n",
    "    # with 10 dimensions (number labels from 0 to 9).\n",
    "    one_hot_labels = labels[..., None] == np.arange(dimension)[None]\n",
    "    # Return one-hot encoded labels.\n",
    "    return one_hot_labels.astype(np.float64)"
   ]
  },
  {
   "cell_type": "code",
   "execution_count": 11,
   "id": "091a7bc8-9a8c-4886-b6fd-613d0f33c91b",
   "metadata": {},
   "outputs": [],
   "source": [
    "training_labels = one_hot_encoding(y_train[:training_sample])\n",
    "test_labels = one_hot_encoding(y_test[:test_sample])"
   ]
  },
  {
   "cell_type": "code",
   "execution_count": 12,
   "id": "3cc26ebe-fc72-446d-a318-63a1389f2f18",
   "metadata": {},
   "outputs": [
    {
     "name": "stdout",
     "output_type": "stream",
     "text": [
      "The data type of training labels: float64\n",
      "The data type of test labels: float64\n"
     ]
    }
   ],
   "source": [
    "print(\"The data type of training labels: {}\".format(training_labels.dtype))\n",
    "print(\"The data type of test labels: {}\".format(test_labels.dtype))"
   ]
  },
  {
   "cell_type": "code",
   "execution_count": 13,
   "id": "fc43c70d-a510-42a7-ad78-2e1d8b8e39d2",
   "metadata": {},
   "outputs": [
    {
     "data": {
      "text/plain": [
       "array([0., 0., 0., 0., 0., 1., 0., 0., 0., 0.])"
      ]
     },
     "execution_count": 13,
     "metadata": {},
     "output_type": "execute_result"
    }
   ],
   "source": [
    "training_labels[0]"
   ]
  },
  {
   "cell_type": "code",
   "execution_count": 14,
   "id": "a50c12b7-0c58-46a7-84ce-8175e64ba5e7",
   "metadata": {},
   "outputs": [
    {
     "data": {
      "text/plain": [
       "5"
      ]
     },
     "execution_count": 14,
     "metadata": {},
     "output_type": "execute_result"
    }
   ],
   "source": [
    "training_labels[0].argmax(axis=0)"
   ]
  },
  {
   "cell_type": "code",
   "execution_count": 15,
   "id": "2fe548b8-b446-4b78-a14e-d3fb0ad68741",
   "metadata": {},
   "outputs": [
    {
     "name": "stdout",
     "output_type": "stream",
     "text": [
      "5\n"
     ]
    }
   ],
   "source": [
    "print(y_train[0])"
   ]
  },
  {
   "cell_type": "markdown",
   "id": "915c9a98-e2a3-46d6-a173-f438863c6a56",
   "metadata": {},
   "source": [
    "Our shallow nnet has 2 layers which includes a relu and dropout."
   ]
  },
  {
   "cell_type": "code",
   "execution_count": 16,
   "id": "66f83475-cdf9-4645-9bbf-e1e0ca8fe6c7",
   "metadata": {},
   "outputs": [],
   "source": [
    "seed = 884736743\n",
    "rng = np.random.default_rng(seed)"
   ]
  },
  {
   "cell_type": "code",
   "execution_count": 17,
   "id": "87b4541e-fbab-4e7d-a024-09fac2a1a087",
   "metadata": {},
   "outputs": [],
   "source": [
    "# Define ReLU that returns the input if it's positive and 0 otherwise.\n",
    "def relu(x):\n",
    "    return (x >= 0) * x\n",
    "\n",
    "\n",
    "# Set up a derivative of the ReLU function that returns 1 for a positive input\n",
    "# and 0 otherwise.\n",
    "def relu2deriv(output):\n",
    "    return output >= 0"
   ]
  },
  {
   "cell_type": "code",
   "execution_count": 18,
   "id": "7bb57875-3333-46fb-8481-676b5b1fcc70",
   "metadata": {},
   "outputs": [],
   "source": [
    "def mse_loss(y, pred, reduction=\"sum\"):\n",
    "     l = (y - pred) ** 2\n",
    "     if reduction == \"sum\":\n",
    "        return np.sum(l)\n",
    "     if reduction == \"mean\":\n",
    "        return np.mean(l)"
   ]
  },
  {
   "cell_type": "code",
   "execution_count": 19,
   "id": "fbfe5ee2-d546-4bca-8c9a-cc598fc909ec",
   "metadata": {},
   "outputs": [],
   "source": [
    "def softmax(X):\n",
    "    exps = np.exp(X)\n",
    "    return exps / np.sum(exps)"
   ]
  },
  {
   "cell_type": "code",
   "execution_count": 20,
   "id": "31221e86-edd4-4e22-a89d-60c1be21ef06",
   "metadata": {},
   "outputs": [],
   "source": [
    "def cross_entropy(predictions, targets, epsilon=1e-12):\n",
    "    \"\"\"\n",
    "    Computes cross entropy between targets (encoded as one-hot vectors)\n",
    "    and predictions. \n",
    "    Input: predictions (N, k) ndarray\n",
    "           targets (N, k) ndarray        \n",
    "    Returns: scalar\n",
    "    \"\"\"\n",
    "    predictions = np.clip(predictions, epsilon, 1. - epsilon)\n",
    "    N = predictions.shape[0]\n",
    "    ce = -np.sum(targets*np.log(predictions+1e-9))/N\n",
    "    return ce"
   ]
  },
  {
   "cell_type": "code",
   "execution_count": 21,
   "id": "1bad5b68-86f7-4a1e-a436-01637927793a",
   "metadata": {},
   "outputs": [],
   "source": [
    "learning_rate = 0.005\n",
    "epochs = 20\n",
    "hidden_size = 100\n",
    "pixels_per_image = 784\n",
    "num_labels = 10"
   ]
  },
  {
   "cell_type": "code",
   "execution_count": 25,
   "id": "8a9536c9-aedf-4dea-9f25-36b510de9bfe",
   "metadata": {},
   "outputs": [],
   "source": [
    "weights_1 = 0.2 * rng.random((pixels_per_image, hidden_size)) - 0.1\n",
    "weights_2 = 0.2 * rng.random((hidden_size, num_labels)) - 0.1"
   ]
  },
  {
   "cell_type": "code",
   "execution_count": 26,
   "id": "2af54bb8-34b0-4f4e-ad48-175eabaf6fac",
   "metadata": {},
   "outputs": [
    {
     "name": "stdout",
     "output_type": "stream",
     "text": [
      "\n",
      "Epoch: 0 Training set error:0.090 Training set accuracy:0.392 Test set error:0.660 Test set accuracy:0.633\n",
      "\n",
      "Epoch: 1 Training set error:0.065 Training set accuracy:0.617 Test set error:0.600 Test set accuracy:0.658\n",
      "\n",
      "Epoch: 2 Training set error:0.059 Training set accuracy:0.692 Test set error:0.564 Test set accuracy:0.684\n",
      "\n",
      "Epoch: 3 Training set error:0.056 Training set accuracy:0.693 Test set error:0.531 Test set accuracy:0.722\n",
      "\n",
      "Epoch: 4 Training set error:0.054 Training set accuracy:0.733 Test set error:0.511 Test set accuracy:0.732\n",
      "\n",
      "Epoch: 5 Training set error:0.051 Training set accuracy:0.739 Test set error:0.495 Test set accuracy:0.742\n",
      "\n",
      "Epoch: 6 Training set error:0.049 Training set accuracy:0.754 Test set error:0.476 Test set accuracy:0.75\n",
      "\n",
      "Epoch: 7 Training set error:0.049 Training set accuracy:0.741 Test set error:0.473 Test set accuracy:0.756\n",
      "\n",
      "Epoch: 8 Training set error:0.047 Training set accuracy:0.772 Test set error:0.473 Test set accuracy:0.768\n",
      "\n",
      "Epoch: 9 Training set error:0.048 Training set accuracy:0.769 Test set error:0.479 Test set accuracy:0.769\n",
      "\n",
      "Epoch: 10 Training set error:0.046 Training set accuracy:0.779 Test set error:0.471 Test set accuracy:0.771\n",
      "\n",
      "Epoch: 11 Training set error:0.047 Training set accuracy:0.775 Test set error:0.481 Test set accuracy:0.78\n",
      "\n",
      "Epoch: 12 Training set error:0.047 Training set accuracy:0.777 Test set error:0.464 Test set accuracy:0.785\n",
      "\n",
      "Epoch: 13 Training set error:0.044 Training set accuracy:0.8 Test set error:0.464 Test set accuracy:0.789\n",
      "\n",
      "Epoch: 14 Training set error:0.046 Training set accuracy:0.794 Test set error:0.469 Test set accuracy:0.781\n",
      "\n",
      "Epoch: 15 Training set error:0.045 Training set accuracy:0.779 Test set error:0.462 Test set accuracy:0.791\n",
      "\n",
      "Epoch: 16 Training set error:0.043 Training set accuracy:0.819 Test set error:0.455 Test set accuracy:0.802\n",
      "\n",
      "Epoch: 17 Training set error:0.042 Training set accuracy:0.807 Test set error:0.451 Test set accuracy:0.788\n",
      "\n",
      "Epoch: 18 Training set error:0.044 Training set accuracy:0.797 Test set error:0.462 Test set accuracy:0.786\n",
      "\n",
      "Epoch: 19 Training set error:0.042 Training set accuracy:0.811 Test set error:0.453 Test set accuracy:0.805\n"
     ]
    }
   ],
   "source": [
    "# To store training and test set losses and accurate predictions\n",
    "# for visualization.\n",
    "store_training_loss = []\n",
    "store_training_accurate_pred = []\n",
    "store_test_loss = []\n",
    "store_test_accurate_pred = []\n",
    "\n",
    "# This is a training loop.\n",
    "# Run the learning experiment for a defined number of epochs (iterations).\n",
    "for j in range(epochs):\n",
    "\n",
    "    #################\n",
    "    # Training step #\n",
    "    #################\n",
    "\n",
    "    # Set the initial loss/error and the number of accurate predictions to zero.\n",
    "    training_loss = 0.0\n",
    "    training_accurate_predictions = 0\n",
    "\n",
    "    # For all images in the training set, perform a forward pass\n",
    "    # and backpropagation and adjust the weights accordingly.\n",
    "    for i in range(len(training_images)):\n",
    "        layer_0 = training_images[i]\n",
    "        # Forward propagation/forward pass:\n",
    "        # 1. The hidden layer:\n",
    "        #    Take in the training image data into the middle layer by\n",
    "        #    matrix-multiplying it by randomly initialized weights.\n",
    "        layer_1 = np.dot(training_images[i], weights_1)\n",
    "        # 2. Pass the hidden layer's output through the ReLU activation function.\n",
    "        layer_1 = relu(layer_1)\n",
    "        # 3. Define the dropout function for regularization.\n",
    "        dropout_mask = rng.integers(low=0, high=2, size=layer_1.shape)\n",
    "        # 4. Apply dropout to the hidden layer's output.\n",
    "        layer_1 *= dropout_mask * 2\n",
    "        # 5. The output layer:\n",
    "        #    Ingest the output of the middle layer into the the final layer\n",
    "        #    by matrix-multiplying it by randomly initialized weights.\n",
    "        #    Produce a 10-dimension vector with 10 scores.\n",
    "        layer_2 = np.dot(layer_1, weights_2)\n",
    "        #layer_2 = softmax(layer_2)\n",
    "\n",
    "        \n",
    "        # Backpropagation/backward pass:\n",
    "        # 1. Measure the training error (loss function) between the actual\n",
    "        #    image labels (the truth) and the prediction by the model.\n",
    "        training_loss += mse_loss(training_labels[i],layer_2, reduction=\"mean\")\n",
    "        #training_loss += cross_entropy(layer_2, training_labels[i])\n",
    "        # 2. Increment the accurate prediction count.\n",
    "        training_accurate_predictions += int(\n",
    "            np.argmax(layer_2) == np.argmax(training_labels[i])\n",
    "        )\n",
    "            \n",
    "        # 3. Differentiate the loss function/error.\n",
    "        layer_2_delta =  (training_labels[i] - layer_2)\n",
    "        # 4. Propagate the gradients of the loss function back through the hidden layer.\n",
    "        layer_1_delta = np.dot(weights_2, layer_2_delta) * relu2deriv(layer_1)\n",
    "        # 5. Apply the dropout to the gradients.\n",
    "        layer_1_delta *= dropout_mask\n",
    "        # 6. Update the weights for the middle and input layers\n",
    "        #    by multiplying them by the learning rate and the gradients.\n",
    "        weights_1 += learning_rate * np.outer(layer_0, layer_1_delta)\n",
    "        weights_2 += learning_rate * np.outer(layer_1, layer_2_delta)\n",
    "\n",
    "    # Store training set losses and accurate predictions.\n",
    "    store_training_loss.append(training_loss)\n",
    "    store_training_accurate_pred.append(training_accurate_predictions)\n",
    "\n",
    "    ###################\n",
    "    # Evaluation step #\n",
    "    ###################\n",
    "\n",
    "    # Evaluate model performance on the test set at each epoch.\n",
    "\n",
    "    # Unlike the training step, the weights are not modified for each image\n",
    "    # (or batch). Therefore the model can be applied to the test images in a\n",
    "    # vectorized manner, eliminating the need to loop over each image\n",
    "    # individually:\n",
    "\n",
    "    results = relu(test_images @ weights_1) @ weights_2\n",
    "\n",
    "    # Measure the error between the actual label (truth) and prediction values.\n",
    "    test_loss = np.sum((test_labels - results) ** 2)\n",
    "\n",
    "    # Measure prediction accuracy on test set\n",
    "    test_accurate_predictions = np.sum(\n",
    "        np.argmax(results, axis=1) == np.argmax(test_labels, axis=1)\n",
    "    )\n",
    "\n",
    "    # Store test set losses and accurate predictions.\n",
    "    store_test_loss.append(test_loss)\n",
    "    store_test_accurate_pred.append(test_accurate_predictions)\n",
    "\n",
    "    # Summarize error and accuracy metrics at each epoch\n",
    "    print(\n",
    "        \"\\n\"\n",
    "        + \"Epoch: \"\n",
    "        + str(j)\n",
    "        + \" Training set error:\"\n",
    "        + str(training_loss / float(len(training_images)))[0:5]\n",
    "        + \" Training set accuracy:\"\n",
    "        + str(training_accurate_predictions / float(len(training_images)))\n",
    "        + \" Test set error:\"\n",
    "        + str(test_loss / float(len(test_images)))[0:5]\n",
    "        + \" Test set accuracy:\"\n",
    "        + str(test_accurate_predictions / float(len(test_images)))\n",
    "    )\n"
   ]
  },
  {
   "cell_type": "code",
   "execution_count": 27,
   "id": "8308b4b8-100d-4297-b8f2-4dfa4ddaff56",
   "metadata": {},
   "outputs": [
    {
     "data": {
      "image/png": "[encoded data removed]",
      "text/plain": [
       "<Figure size 1500x500 with 2 Axes>"
      ]
     },
     "metadata": {},
     "output_type": "display_data"
    }
   ],
   "source": [
    "# The training set metrics.\n",
    "y_training_error = [\n",
    "    store_training_loss[i] / float(len(training_images))\n",
    "    for i in range(len(store_training_loss))\n",
    "]\n",
    "x_training_error = range(1, len(store_training_loss) + 1)\n",
    "y_training_accuracy = [\n",
    "    store_training_accurate_pred[i] / float(len(training_images))\n",
    "    for i in range(len(store_training_accurate_pred))\n",
    "]\n",
    "x_training_accuracy = range(1, len(store_training_accurate_pred) + 1)\n",
    "\n",
    "# The test set metrics.\n",
    "y_test_error = [\n",
    "    store_test_loss[i] / float(len(test_images)) for i in range(len(store_test_loss))\n",
    "]\n",
    "x_test_error = range(1, len(store_test_loss) + 1)\n",
    "y_test_accuracy = [\n",
    "    store_training_accurate_pred[i] / float(len(training_images))\n",
    "    for i in range(len(store_training_accurate_pred))\n",
    "]\n",
    "x_test_accuracy = range(1, len(store_test_accurate_pred) + 1)\n",
    "\n",
    "# Display the plots.\n",
    "fig, axes = plt.subplots(nrows=1, ncols=2, figsize=(15, 5))\n",
    "axes[0].set_title(\"Training set error, accuracy\")\n",
    "axes[0].plot(x_training_accuracy, y_training_accuracy, label=\"Training set accuracy\")\n",
    "axes[0].plot(x_training_error, y_training_error, label=\"Training set error\")\n",
    "axes[0].set_xlabel(\"Epochs\")\n",
    "axes[1].set_title(\"Test set error, accuracy\")\n",
    "axes[1].plot(x_test_accuracy, y_test_accuracy, label=\"Test set accuracy\")\n",
    "axes[1].plot(x_test_error, y_test_error, label=\"Test set error\")\n",
    "axes[1].set_xlabel(\"Epochs\")\n",
    "plt.show()"
   ]
  },
  {
   "cell_type": "code",
   "execution_count": null,
   "id": "24ad54d5-74ee-4e54-98ff-ec84fd33807f",
   "metadata": {},
   "outputs": [],
   "source": []
  },
  {
   "cell_type": "code",
   "execution_count": null,
   "id": "ee9a3a77-90a3-40aa-afa7-dd3b8867eacd",
   "metadata": {},
   "outputs": [],
   "source": []
  }
 ],
 "metadata": {
  "kernelspec": {
   "display_name": "general_39",
   "language": "python",
   "name": "general_39"
  },
  "language_info": {
   "codemirror_mode": {
    "name": "ipython",
    "version": 3
   },
   "file_extension": ".py",
   "mimetype": "text/x-python",
   "name": "python",
   "nbconvert_exporter": "python",
   "pygments_lexer": "ipython3",
   "version": "3.9.7"
  }
 },
 "nbformat": 4,
 "nbformat_minor": 5
}
